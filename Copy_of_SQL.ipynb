{
  "nbformat": 4,
  "nbformat_minor": 0,
  "metadata": {
    "colab": {
      "provenance": [],
      "include_colab_link": true
    },
    "kernelspec": {
      "name": "python3",
      "display_name": "Python 3"
    }
  },
  "cells": [
    {
      "cell_type": "markdown",
      "metadata": {
        "id": "view-in-github",
        "colab_type": "text"
      },
      "source": [
        "<a href=\"https://colab.research.google.com/github/indiameicorengold/sql-lab/blob/main/Copy_of_SQL.ipynb\" target=\"_parent\"><img src=\"https://colab.research.google.com/assets/colab-badge.svg\" alt=\"Open In Colab\"/></a>"
      ]
    },
    {
      "cell_type": "markdown",
      "metadata": {
        "id": "5b2x07r_2WFC"
      },
      "source": [
        "# SQL Lab\n",
        "**Make sure you save a copy of this lab and `people.db` on your own drive before starting the lab!**\n",
        "\n",
        "- For the lab, you can go to \"File\" -> \"Save a copy in Drive\"\n",
        "- For the database, you need to download `people.db` and upload it to your own drive\n",
        "\n",
        "\n",
        "For this lab, we are going to practice writing basic SQL queries. SQLite in Python provides a nice system for us to write SQL queries. You can read more about the difference between SQLite and SQL [here](https://www.javatpoint.com/sql-vs-sqlite)! In the future (for your final projects), also feel free to look into alternatives to SQLite for writing SQL queries and creating databases such as [these](https://stackshare.io/sqlite/alternatives).\n",
        "\n",
        "At many points of this lab, we ask you to use SQL features that you haven't seen before. You can find relevant documentation on [this site](https://www.w3schools.com/sql/default.asp)."
      ]
    },
    {
      "cell_type": "markdown",
      "metadata": {
        "id": "1RwCAFtrnoro"
      },
      "source": [
        "## **I. Working with databases in Python**\n",
        "\n",
        "1. Run this code to open a new database, called `sql_lab.db`"
      ]
    },
    {
      "cell_type": "code",
      "metadata": {
        "id": "bV66E4Gq3_7x",
        "colab": {
          "base_uri": "https://localhost:8080/"
        },
        "outputId": "f2267256-0175-467f-efcb-ee0888e2a6e0"
      },
      "source": [
        "import sqlite3\n",
        "\n",
        "conn = sqlite3.connect('sql_lab.db') # automatically creates new file for \n",
        "c = conn.cursor()\n",
        "# When using SQLite, include the following line to ensure foreign key commands are recognized\n",
        "c.execute('PRAGMA foreign_keys = ON')"
      ],
      "execution_count": null,
      "outputs": [
        {
          "output_type": "execute_result",
          "data": {
            "text/plain": [
              "<sqlite3.Cursor at 0x7ff6b7acd7a0>"
            ]
          },
          "metadata": {},
          "execution_count": 1
        }
      ]
    },
    {
      "cell_type": "markdown",
      "metadata": {
        "id": "zF_XmMIG4SCs"
      },
      "source": [
        "2. Whenever you want to execute a SQL command that modifes the .db file (for example, `INSERT`, `UPDATE`, `CREATE TABLE`), you would want to commit those changes to the file. So, you can use the following syntax:"
      ]
    },
    {
      "cell_type": "code",
      "metadata": {
        "id": "Fex-nlU343Au"
      },
      "source": [
        "# this is the general syntax for commands that span multiple lines\n",
        "command1 = '''\n",
        "CREATE TABLE company\n",
        "(id INT PRIMARY KEY NOT NULL,\n",
        "name TEXT NOT NULL);\n",
        "'''\n",
        "\n",
        "# Use the execute function to execute the command\n",
        "c.execute(command1)\n",
        "\n",
        "# And then commit the changes to the file\n",
        "conn.commit()"
      ],
      "execution_count": null,
      "outputs": []
    },
    {
      "cell_type": "markdown",
      "metadata": {
        "id": "wF0u4p0Z7iPB"
      },
      "source": [
        "3. Whenever you want to query but not modify the file, you use a `SELECT` statement:"
      ]
    },
    {
      "cell_type": "code",
      "metadata": {
        "id": "YW1jqbOJ7ths",
        "colab": {
          "base_uri": "https://localhost:8080/"
        },
        "outputId": "206116e7-9538-4384-a1bb-da99ce3c5316"
      },
      "source": [
        "# this is the general syntax for in-line commands\n",
        "command2 = \"SELECT id, name FROM COMPANY;\"\n",
        "\n",
        "c.execute(command2)"
      ],
      "execution_count": null,
      "outputs": [
        {
          "output_type": "execute_result",
          "data": {
            "text/plain": [
              "<sqlite3.Cursor at 0x7ff6b7acd7a0>"
            ]
          },
          "metadata": {},
          "execution_count": 3
        }
      ]
    },
    {
      "cell_type": "markdown",
      "metadata": {
        "id": "wfnY3gmh-LgQ"
      },
      "source": [
        "Once you have executed the query, you retreive the results by calling some variation of the fetch command (e.g., `fetchall`, `fetchmany`, `fetchone`): "
      ]
    },
    {
      "cell_type": "code",
      "metadata": {
        "id": "MGMhQ1mT-H46",
        "colab": {
          "base_uri": "https://localhost:8080/"
        },
        "outputId": "3bef74ba-ea00-4e45-cc2a-a53948141b32"
      },
      "source": [
        "c.fetchall() # returns an empty list, since the table empty"
      ],
      "execution_count": null,
      "outputs": [
        {
          "output_type": "execute_result",
          "data": {
            "text/plain": [
              "[]"
            ]
          },
          "metadata": {},
          "execution_count": 4
        }
      ]
    },
    {
      "cell_type": "markdown",
      "metadata": {
        "id": "ot7xoQ_x78Qj"
      },
      "source": [
        "You can read more about working with SQLite in Python [here](https://www.tutorialspoint.com/sqlite/sqlite_python.htm)."
      ]
    },
    {
      "cell_type": "markdown",
      "metadata": {
        "id": "50vt278WX05L"
      },
      "source": [
        "## **II. Writing Queries to a Database**\n",
        "\n",
        "For this part of the lab, we have provided a database named `people.db` with the name, age, ID, and occupation and social connections of some (fake) Brown students and alumni. Here is the schema:\n",
        "\n",
        "*   `people_main(ID INTEGER, name TEXT, occupation TEXT, age INTEGER)`\n",
        "*   `people_likes(ID1 INTEGER, ID2 INTEGER)`\n",
        "*   `people_friends(ID1 INTEGER, ID2 INTEGER)`\n",
        "\n",
        "\n",
        "In the `people_main` table, `ID` is a unique identifier for a particular student or alumnus. Name, occupation and age correspond to the person's first name, occupation and age.\n",
        "\n",
        "In the `people_likes` table, each `(ID1, ID2)` pair indicates that the person with `ID1` is friends with the person with `ID2` (and vice versa). The friendship is mutual, and, if `(ID1, ID2)` is in the table, it is guaranteed that `(ID2, ID1)` exists in the table.\n",
        "\n",
        "In the people_friends table, each `(ID1, ID2)` pair indicates that the student or alumnus with `ID1` likes the person with `ID2`. The `(ID1, ID2)` pair in the table does not guarantee that the `(ID2, ID1)` pair also exists in the table.\n",
        "\n",
        "Your job is to write SQL queries for the data being requested for each part below.\n",
        "\n",
        "**Note**: You will be continuing this task in the assignment with the same database, so hopefully getting familiar with the database here will help you with the assignment!"
      ]
    },
    {
      "cell_type": "markdown",
      "metadata": {
        "id": "S1lpKj-_ZZ1a"
      },
      "source": [
        "Run the cell below to load the database:"
      ]
    },
    {
      "cell_type": "code",
      "metadata": {
        "id": "cPVsCP6z56Li",
        "colab": {
          "base_uri": "https://localhost:8080/"
        },
        "outputId": "1a3cfff9-829e-4c9f-e8c2-8ffbfe9ca470"
      },
      "source": [
        "import sqlite3\n",
        "from google.colab import drive\n",
        "drive.mount('/content/gdrive', force_remount=True)\n",
        "\n",
        "# this path points to where your people.db file is located on your Google Drive\n",
        "# you need to modify the path if your file is at a different location\n",
        "path = \"/content/gdrive/My Drive/csci1951a/Copy of people.db\" \n",
        "conn = sqlite3.connect(path)\n",
        "c = conn.cursor()"
      ],
      "execution_count": null,
      "outputs": [
        {
          "output_type": "stream",
          "name": "stdout",
          "text": [
            "Mounted at /content/gdrive\n"
          ]
        }
      ]
    },
    {
      "cell_type": "markdown",
      "metadata": {
        "id": "h00hb4YEBQj5"
      },
      "source": [
        "1. Write a SQL statement that returns the name of people, ordered by name (A-Z). Replace the question mark with the correct terms."
      ]
    },
    {
      "cell_type": "code",
      "metadata": {
        "id": "Dbj4f7WR-AAo",
        "colab": {
          "base_uri": "https://localhost:8080/"
        },
        "outputId": "c19c2d97-127b-4c1d-daa1-8c697cfdf4a9"
      },
      "source": [
        "command1 = '''\n",
        "SELECT\n",
        "  name\n",
        "FROM\n",
        "  people_main\n",
        "ORDER BY name ASC;\n",
        "'''\n",
        "\n",
        "# Do not modify below this line\n",
        "c.execute(command1)\n",
        "count = 0\n",
        "for row in c:\n",
        "  count += 1\n",
        "  print(\"NAME = \", row[0])\n",
        "assert count == 17"
      ],
      "execution_count": null,
      "outputs": [
        {
          "output_type": "stream",
          "name": "stdout",
          "text": [
            "NAME =  Amy\n",
            "NAME =  Andy\n",
            "NAME =  Anne\n",
            "NAME =  Bill\n",
            "NAME =  Bob\n",
            "NAME =  Ellie\n",
            "NAME =  Esteban\n",
            "NAME =  Jens\n",
            "NAME =  Kate\n",
            "NAME =  Kevin\n",
            "NAME =  Luis\n",
            "NAME =  Michael\n",
            "NAME =  Rachel\n",
            "NAME =  Robert\n",
            "NAME =  Ryan\n",
            "NAME =  Thomas\n",
            "NAME =  Tony\n"
          ]
        }
      ]
    },
    {
      "cell_type": "markdown",
      "metadata": {
        "id": "QkYmJwktBYKl"
      },
      "source": [
        "2. Write a SQL statement that returns the name and age of people who are engineers or doctors. Results should be ordered by name (A-Z)."
      ]
    },
    {
      "cell_type": "code",
      "metadata": {
        "id": "AgVdPU_s-bie",
        "colab": {
          "base_uri": "https://localhost:8080/"
        },
        "outputId": "379bcb56-14e3-4f7b-a62a-82c31055af5b"
      },
      "source": [
        "command2 = '''\n",
        "SELECT\n",
        "  name,\n",
        "  age\n",
        "FROM\n",
        "  people_main\n",
        "WHERE\n",
        "  occupation = 'engineer' OR occupation = 'doctor'\n",
        "ORDER BY name;\n",
        "'''\n",
        "\n",
        "# Do not modify below this line\n",
        "c.execute(command2)\n",
        "count = 0\n",
        "for row in c:\n",
        "   print(\"NAME = \", row[0])\n",
        "   print(\"AGE = \", row[1], \"\\n\")\n",
        "   count += 1\n",
        "assert count == 8"
      ],
      "execution_count": null,
      "outputs": [
        {
          "output_type": "stream",
          "name": "stdout",
          "text": [
            "NAME =  Amy\n",
            "AGE =  30 \n",
            "\n",
            "NAME =  Andy\n",
            "AGE =  57 \n",
            "\n",
            "NAME =  Anne\n",
            "AGE =  82 \n",
            "\n",
            "NAME =  Bob\n",
            "AGE =  59 \n",
            "\n",
            "NAME =  Luis\n",
            "AGE =  99 \n",
            "\n",
            "NAME =  Michael\n",
            "AGE =  12 \n",
            "\n",
            "NAME =  Thomas\n",
            "AGE =  16 \n",
            "\n",
            "NAME =  Tony\n",
            "AGE =  29 \n",
            "\n"
          ]
        }
      ]
    },
    {
      "cell_type": "markdown",
      "metadata": {
        "id": "FB46kzEyBftn"
      },
      "source": [
        "3. Write a SQL statement that returns the name of people that are liked by at least one other person. Results should be ordered by name (A-Z).\n",
        "Careful! Some people are liked multiple times, but their name should only appear once. Take a look at the `DISTINCT` and `IN` operators."
      ]
    },
    {
      "cell_type": "code",
      "metadata": {
        "id": "zQPTvhBk-wnQ",
        "colab": {
          "base_uri": "https://localhost:8080/"
        },
        "outputId": "e788f4d7-0cfa-4148-f464-6945d940cada"
      },
      "source": [
        "command3 = '''\n",
        "SELECT\n",
        "  DISTINCT name\n",
        "FROM\n",
        "  people_main\n",
        "WHERE\n",
        "  ID IN (SELECT ID2 FROM people_likes)\n",
        "ORDER BY name;\n",
        "'''\n",
        "\n",
        "# Do not modify below this line\n",
        "c.execute(command3)\n",
        "count = 0\n",
        "for row in c:\n",
        "   print(\"NAME = \", row[0])\n",
        "   count += 1\n",
        "assert count == 8"
      ],
      "execution_count": null,
      "outputs": [
        {
          "output_type": "stream",
          "name": "stdout",
          "text": [
            "NAME =  Anne\n",
            "NAME =  Bob\n",
            "NAME =  Esteban\n",
            "NAME =  Kevin\n",
            "NAME =  Michael\n",
            "NAME =  Rachel\n",
            "NAME =  Robert\n",
            "NAME =  Thomas\n"
          ]
        }
      ]
    },
    {
      "cell_type": "markdown",
      "metadata": {
        "id": "Au93tiFiBknp"
      },
      "source": [
        "4. Write a SQL statement that returns the name of people who aren’t liked by anyone else. Results should be ordered by name (A-Z).\n",
        "Hint: This should be very similar to the previous question!"
      ]
    },
    {
      "cell_type": "code",
      "metadata": {
        "id": "eh-D4W0q-9sK",
        "colab": {
          "base_uri": "https://localhost:8080/"
        },
        "outputId": "d270a442-a4f8-4813-a21b-b23df2e1f984"
      },
      "source": [
        "command4 = '''\n",
        "SELECT\n",
        "  name\n",
        "FROM\n",
        "  people_main\n",
        "WHERE\n",
        "   ID NOT IN (SELECT ID2 FROM people_likes)\n",
        "ORDER BY name;\n",
        "'''\n",
        "\n",
        "# Do not modify below this line\n",
        "c.execute(command4)\n",
        "count = 0\n",
        "for row in c:\n",
        "   print(\"NAME = \", row[0])\n",
        "   count += 1\n",
        "assert count == 9"
      ],
      "execution_count": null,
      "outputs": [
        {
          "output_type": "stream",
          "name": "stdout",
          "text": [
            "NAME =  Amy\n",
            "NAME =  Andy\n",
            "NAME =  Bill\n",
            "NAME =  Ellie\n",
            "NAME =  Jens\n",
            "NAME =  Kate\n",
            "NAME =  Luis\n",
            "NAME =  Ryan\n",
            "NAME =  Tony\n"
          ]
        }
      ]
    },
    {
      "cell_type": "markdown",
      "metadata": {
        "id": "ZfktfHjPBo7N"
      },
      "source": [
        "5. Write a SQL statement that returns each occupation and the number of people with that occupation. Results should be ordered by number of people within that occupation (descending), and then by occupation (A-Z).\n",
        "Hint: Look at `GROUP BY` and `COUNT`."
      ]
    },
    {
      "cell_type": "code",
      "metadata": {
        "id": "QAIaJ1tz_Muv",
        "colab": {
          "base_uri": "https://localhost:8080/"
        },
        "outputId": "11de1624-7c01-4e1e-9bb3-b0dc50ff5890"
      },
      "source": [
        "command5 = '''\n",
        "SELECT\n",
        "  occupation, COUNT(*) \n",
        "FROM\n",
        "  people_main\n",
        "GROUP BY occupation\n",
        "ORDER BY COUNT(*) DESC, occupation ASC;\n",
        "'''\n",
        "\n",
        "# Do not modify below this line\n",
        "c.execute(command5)\n",
        "count = 0\n",
        "for row in c:\n",
        "   print(\"OCCUPATION = \", row[0])\n",
        "   print(\"NUMBER = \", row[1], \"\\n\")\n",
        "   assert row[1] <= 5\n",
        "   count += 1\n",
        "assert count == 4\n",
        "\n",
        "c.close()"
      ],
      "execution_count": null,
      "outputs": [
        {
          "output_type": "stream",
          "name": "stdout",
          "text": [
            "OCCUPATION =  professor\n",
            "NUMBER =  5 \n",
            "\n",
            "OCCUPATION =  doctor\n",
            "NUMBER =  4 \n",
            "\n",
            "OCCUPATION =  engineer\n",
            "NUMBER =  4 \n",
            "\n",
            "OCCUPATION =  student\n",
            "NUMBER =  4 \n",
            "\n"
          ]
        }
      ]
    },
    {
      "cell_type": "markdown",
      "metadata": {
        "id": "qZXkKwZVLLxO"
      },
      "source": [
        "## **III. Theory**\n",
        "\n",
        "Read about primary keys [here](https://www.w3schools.com/sql/sql_primarykey.ASP) and foreign keys [here](https://www.w3schools.com/sql/sql_foreignkey.asp).\n",
        "\n",
        "**Some key takeaways (heh, pun intended)**:\n",
        "\n",
        "Primary key:\n",
        "- A primary key of a table serves to identify different records in that  table. It therefore must be not null and unique for each row. It is declared with the `PRIMARY KEY` keyword.\n",
        "- A table can only have one primary key, and those primary keys can consist of multiple fields (i.e. a combination of things, for example, a name, date of birth, and ZIP code).\n",
        "\n",
        "Foreign key\n",
        "- A foreign key on attribute Q in table B is a reference to an attribute P in table A. It is declared with the keywords `FOREIGN KEY REFERENCES table_A(attribute_P)`\n",
        "- A foreign key, unlike a primary key, can have a `NULL` value, and does not need to be unique.\n",
        "\n"
      ]
    },
    {
      "cell_type": "markdown",
      "metadata": {
        "id": "s0a6alesgDRs"
      },
      "source": [
        "## **IV. Designing a database**\n",
        "\n",
        "You want to create a database that keeps track of the information of all the students at Brown, and the courses that they are taking.\n",
        "\n",
        "You know the following about the students:\n",
        "- The students may share the same name\n",
        "- Each student has to have a name\n",
        "- Each student has a unique Banner ID\n",
        "- Each student takes at most five courses (there’s a possibility that the student isn't taking any courses if they are taking a gap semester, for example)\n",
        "\n",
        "You know the following about the courses:\n",
        "- Each course has a course code and a course name\n",
        "- Each course can have different offerings by different professors. For example, `MATH0520` - Linear Algebra - can be taught by Professor Landman, Professor Ivanov, and Professor Li, in the same semester.\n",
        "\n",
        "You also know your expectations with this database schema:\n",
        "The University is going to use this database to get\n",
        "- (1) the list of students that are enrolled in a course,\n",
        "- (2) a list of courses that a student is enrolled in\n",
        "\n",
        "<!-- To do this, you create three tables with the following schemas: \n",
        "\n",
        "student(banner_id, student_name)\n",
        "course(course_code, course_name, professor_name)\n",
        "takes(banner_id, course_id, professor_name) -->\n",
        "\n",
        "> ### **Check-off:**\n",
        "- From your knowledge about primary keys and foreign keys, identify all potential primary keys and foreign keys for the schema above.\n",
        "- Design necessary database schema(s) that would satisfy the requirements above\n",
        "- Write your schema below in the format `table_name(attribute1, attribute2, etc)` and show to a TA:"
      ]
    },
    {
      "cell_type": "code",
      "metadata": {
        "id": "JgSofJgnFdhn"
      },
      "source": [
        "# Your schema here: students(bannerID, name, courses)\n",
        "# courses(code, name, professors)\n",
        "# professors(id, name, course, students)\n",
        "# bannerID, code, and professors.id will all be primary keys. \n",
        "# students.courses, courses.professors, professors.course, and professors.students will all require foreign keys."
      ],
      "execution_count": null,
      "outputs": []
    },
    {
      "cell_type": "markdown",
      "metadata": {
        "id": "Hds2ZODtCzK-"
      },
      "source": [
        "## **V. Creating and modifying a database**\n",
        "\n",
        "#### Note: For the rest of this half of the lab, please use the following schema for your tables, regardless of the schemas you came up with above. (Also, please note that the following table is designed only for the purpose of helping you learn in this lab but violates the standards of first normal form. To learn more about first normal form, see [here](https://en.wikipedia.org/wiki/First_normal_form) or take a databases course, like CSCI 1270):\n",
        "```\n",
        "students(banner_id, name, course_one, course_one_prof_last_name, course_two, course_two_last, course_three, course_three_last)\n",
        "courses(course_id, course_name, course_professor_last_name)\n",
        "```\n",
        "\n",
        "\n",
        "### 1. `CREATE` statement\n",
        "\n",
        "You can read more about the `CREATE` statement [here](https://www.w3schools.com/sql/sql_create_table.asp).\n",
        "\n",
        "> ### **Check-off:**\n",
        "Using the `CREATE` statement that we learned in class (and the link above), create table(s) in the database that represent the schema described above. Using the information that you already acquired about primary keys and foreign keys, be sure to represent these key constraints (among other attributes like the type or `NOT NULL`) in your table(s)!\n"
      ]
    },
    {
      "cell_type": "code",
      "metadata": {
        "id": "GsLUijCCEgyI",
        "colab": {
          "base_uri": "https://localhost:8080/",
          "height": 235
        },
        "outputId": "12ebd768-6ed7-4dca-e66e-15bd7794b69b"
      },
      "source": [
        "c = conn.cursor()\n",
        "\n",
        "# Run this code block if you would like to drop your tables\n",
        "c.execute('PRAGMA foreign_keys = OFF')\n",
        "\n",
        "c.execute('DROP TABLE IF EXISTS Courses;')\n",
        "c.execute('DROP TABLE IF EXISTS Students;')\n",
        "\n",
        "c.execute('PRAGMA foreign_keys = ON')"
      ],
      "execution_count": null,
      "outputs": [
        {
          "output_type": "error",
          "ename": "OperationalError",
          "evalue": "ignored",
          "traceback": [
            "\u001b[0;31m---------------------------------------------------------------------------\u001b[0m",
            "\u001b[0;31mOperationalError\u001b[0m                          Traceback (most recent call last)",
            "\u001b[0;32m<ipython-input-95-eb490cc45357>\u001b[0m in \u001b[0;36m<module>\u001b[0;34m\u001b[0m\n\u001b[1;32m      4\u001b[0m \u001b[0mc\u001b[0m\u001b[0;34m.\u001b[0m\u001b[0mexecute\u001b[0m\u001b[0;34m(\u001b[0m\u001b[0;34m'PRAGMA foreign_keys = OFF'\u001b[0m\u001b[0;34m)\u001b[0m\u001b[0;34m\u001b[0m\u001b[0;34m\u001b[0m\u001b[0m\n\u001b[1;32m      5\u001b[0m \u001b[0;34m\u001b[0m\u001b[0m\n\u001b[0;32m----> 6\u001b[0;31m \u001b[0mc\u001b[0m\u001b[0;34m.\u001b[0m\u001b[0mexecute\u001b[0m\u001b[0;34m(\u001b[0m\u001b[0;34m'DROP TABLE IF EXISTS Courses;'\u001b[0m\u001b[0;34m)\u001b[0m\u001b[0;34m\u001b[0m\u001b[0;34m\u001b[0m\u001b[0m\n\u001b[0m\u001b[1;32m      7\u001b[0m \u001b[0mc\u001b[0m\u001b[0;34m.\u001b[0m\u001b[0mexecute\u001b[0m\u001b[0;34m(\u001b[0m\u001b[0;34m'DROP TABLE IF EXISTS Students;'\u001b[0m\u001b[0;34m)\u001b[0m\u001b[0;34m\u001b[0m\u001b[0;34m\u001b[0m\u001b[0m\n\u001b[1;32m      8\u001b[0m \u001b[0;34m\u001b[0m\u001b[0m\n",
            "\u001b[0;31mOperationalError\u001b[0m: database is locked"
          ]
        }
      ]
    },
    {
      "cell_type": "code",
      "metadata": {
        "id": "x97Lr0K4Cy3S",
        "colab": {
          "base_uri": "https://localhost:8080/"
        },
        "outputId": "c5704b4d-4739-4d1a-d5eb-79d0c1b3d700"
      },
      "source": [
        "# Create your tables here\n",
        "# Don't forget to execute and commit!\n",
        "\n",
        "# create one table\n",
        "create_courses_table_command = '''\n",
        "CREATE TABLE IF NOT EXISTS Courses (\n",
        "\tcourse_id char(8) NOT NULL,\n",
        "\tcourse_name varchar(255) NOT NULL,\n",
        "\tcourse_professor_last_name varchar(100) NOT NULL,\n",
        "\tPRIMARY KEY (course_id, course_professor_last_name)\n",
        ");\n",
        "'''\n",
        "\n",
        "conn = sqlite3.connect(\"university.db\")\n",
        "c = conn.cursor()\n",
        "\n",
        "# execute\n",
        "c.execute(create_courses_table_command)\n",
        "\n",
        "\n",
        "# create second table (read about ON DELETE SET NULL in section 3 below!)\n",
        "create_student_table_command = '''\n",
        "CREATE TABLE IF NOT EXISTS Students (\n",
        "\tbanner_id int NOT NULL,\n",
        "\tname varchar(255) NOT NULL,\n",
        "\tcourse_one char(8),\n",
        "\tcourse_one_last varchar(255),\n",
        "\tcourse_two char(8),\n",
        "\tcourse_two_last varchar(255),\n",
        "\tcourse_three char(8),\n",
        "\tcourse_three_last varchar(255),\n",
        "\tPRIMARY KEY (banner_id),\n",
        "\tFOREIGN KEY (course_one, course_one_last) REFERENCES Courses(course_id, course_professor_last_name) ON DELETE SET NULL,\n",
        "\tFOREIGN KEY (course_two, course_two_last) REFERENCES Courses(course_id, course_professor_last_name) ON DELETE SET NULL,\n",
        "\tFOREIGN KEY (course_three, course_three_last) REFERENCES Courses(course_id, course_professor_last_name) ON DELETE SET NULL\n",
        ");\n",
        "'''\n",
        "\n",
        "# execute\n",
        "c.execute(create_student_table_command)"
      ],
      "execution_count": null,
      "outputs": [
        {
          "output_type": "execute_result",
          "data": {
            "text/plain": [
              "<sqlite3.Cursor at 0x7ff6b529a1f0>"
            ]
          },
          "metadata": {},
          "execution_count": 96
        }
      ]
    },
    {
      "cell_type": "code",
      "metadata": {
        "id": "UWtX0g5Sa3l7"
      },
      "source": [
        "# check to see that your tables were created\n",
        "c.execute(\"\"\"SELECT \n",
        "    name\n",
        "FROM \n",
        "    sqlite_master \n",
        "WHERE \n",
        "    type ='table' AND \n",
        "    name NOT LIKE 'sqlite_%';\"\"\")\n",
        "c.fetchall()"
      ],
      "execution_count": null,
      "outputs": []
    },
    {
      "cell_type": "markdown",
      "metadata": {
        "id": "9yE5s8UonvGB"
      },
      "source": [
        "### 2. `INSERT` statement\n",
        "\n",
        "You can read more about the `INSERT` statement [here](https://www.w3schools.com/sql/sql_insert.asp)\n",
        "\n",
        "Insert the following information to the table(s) that you created:\n",
        "- A course with the following information: ID: CSCI0180, Name: “Computer Science: An Integrated Introduction”, Professor: Fisler.\n",
        "- A course with the following information: ID: MATH0100, Name: “Introductory Calculus, Part II”, and this course is offered by multiple professors: Professor Bae and  Professor Hu.\n",
        "- Professor Hu is also teaching a course with the following information: ID: MATH0200, Name: “Intermediate Calculus (Physics/Engineering)”\n",
        "- Two other courses of your choice that do not begin with CSCI or MATH.\n",
        "- Three students of your choice, each taking 1, 2 and 3 courses, respectively.\n",
        "\n",
        "> ### **Check-off:**\n",
        "Insert information according to the instructions above, and call a TA over once you are done. Don't forget to commit the changes! \n",
        "\n",
        "**Tip**: When inserting several values into your table, you can also use the syntax:\n",
        "`c.execute(“INSERT INTO table_name VALUES (?, ?, ?);”, (value1, value2, value3))`\n",
        "\n"
      ]
    },
    {
      "cell_type": "code",
      "metadata": {
        "id": "4X3pV-_wGXqu"
      },
      "source": [
        "# Put your insert statements here!\n",
        "c.execute('''INSERT INTO Courses VALUES (?, ?, ?);''', ('MATH0100', 'Introductory Calculus, Part II', 'Bae'))\n",
        "?"
      ],
      "execution_count": null,
      "outputs": []
    },
    {
      "cell_type": "code",
      "metadata": {
        "id": "dtBu6puGTLDO"
      },
      "source": [
        "# Use this to see what your table holds\n",
        "c.execute('''SELECT * FROM Courses;''')\n",
        "\n",
        "for row in c:\n",
        "  print(row)\n",
        "\n",
        "c.execute('''SELECT * FROM Students;''')\n",
        "for row in c:\n",
        "  print(row)"
      ],
      "execution_count": null,
      "outputs": []
    },
    {
      "cell_type": "markdown",
      "metadata": {
        "id": "cnuJEeO3nukn"
      },
      "source": [
        "### 3. `DELETE` statement\n",
        "\n",
        "You can read more about the `DELETE` statement [here](https://www.w3schools.com/sql/sql_delete.asp)\n",
        "\n",
        "How unfortunate! Professor Hu just caught a really bad flu and will not be able to teach the courses that they intended to teach this semester.\n",
        "\n",
        "The Math department thought that it would be okay to not offer MATH0200 with Professor Hu this semester. Delete the course “MATH0200” taught by Professor Hu.\n",
        "\n",
        "**Note**: When deleting an entry that is referenced in another table, make sure to go back to where you created the tables and include `ON DELETE SET NULL` after declaring the foreign key when creating the table. For example:\n",
        "\n",
        "```\n",
        "# If Students references another table S\n",
        "chools(school, city) and a school is deleted, \n",
        "# we want those school, city fields to be set to NULL for any students who attended that school.\n",
        "CREATE TABLE Students (\n",
        "\tname varchar(255) NOT NULL,\n",
        "\tschool varchar(255),\n",
        "\tcity varchar(255),\n",
        "\tPRIMARY KEY (name),\n",
        "\tFOREIGN KEY (school, city) REFERENCES Schools (school, city) ON DELETE SET NULL\n",
        ")\n",
        "```\n",
        "If you want to learn more about deleting a primary key that is referenced to in another table, read [here](https://www.techonthenet.com/sqlite/foreign_keys/foreign_delete.php).\n",
        "\n",
        "### 4. `UPDATE` statement\n",
        "\n",
        "You can read more about the `UPDATE` statement [here](https://www.w3schools.com/sql/sql_update.asp)\n",
        "\n",
        "The math department has decided to restructure its calculus sequence, where MATH0100 will now be called “Principles of Calculus.” Update all of the MATH0100 courses so that their names reflect this change. \n",
        "\n",
        "(**Note**: One thing to take note of is that primary keys cannot be updated this way. In order to change a primary key, we suggest removing the original entry and inserting a new one with the new key.)\n",
        "\n",
        "> ### **Check-off:**\n",
        "Modify the database using the information above (don’t forget to commit!), and call a TA over once you are done.\n"
      ]
    },
    {
      "cell_type": "code",
      "metadata": {
        "id": "IMuKbvA6DxcS"
      },
      "source": [
        "# DELETE\n",
        "delete_command = '''\n",
        "DELETE FROM ?\n",
        "WHERE ? AND ?;\n",
        "'''\n",
        "\n",
        "# UPDATE\n",
        "update_command = '''\n",
        "UPDATE ?\n",
        "SET ?\n",
        "WHERE ?;\n",
        "'''\n",
        "\n",
        "# Don't forget to execute and commit!\n",
        "?\n",
        "?\n",
        "?"
      ],
      "execution_count": null,
      "outputs": []
    },
    {
      "cell_type": "code",
      "metadata": {
        "id": "ixcBivwETvYq"
      },
      "source": [
        "c.execute('''SELECT * FROM Courses;''')\n",
        "\n",
        "for row in c:\n",
        "  print(row)\n",
        "\n",
        "c.execute('''SELECT * FROM Students;''')\n",
        "for row in c:\n",
        "  print(row)"
      ],
      "execution_count": null,
      "outputs": []
    },
    {
      "cell_type": "markdown",
      "metadata": {
        "id": "1ArW0N1OONjp"
      },
      "source": [
        "## VI. More Advanced Queries! \n",
        "Using the database you just created, let's practice with some more advanced SQL operations you will encounter in the SQL assignment! "
      ]
    },
    {
      "cell_type": "markdown",
      "metadata": {
        "id": "lA2SO3DPdEJq"
      },
      "source": [
        "### 1. `HAVING` statement\n",
        "\n",
        "You can read more about the `HAVING` statement [here](https://www.w3schools.com/sql/sql_having.asp)\n",
        "\n",
        "The head of the Registrar wants to know which courses are taught by more than one professor.\n"
      ]
    },
    {
      "cell_type": "code",
      "metadata": {
        "id": "XxqMrWREdErQ"
      },
      "source": [
        "having_command = '''\n",
        "SELECT\n",
        "  ?\n",
        "FROM\n",
        "  ?\n",
        "GROUP BY course_id\n",
        "HAVING COUNT(?) > 1;\n",
        "'''\n",
        "c.execute(having_command)\n",
        "for row in c:\n",
        "   print(\"Course ID = \", row[0])"
      ],
      "execution_count": null,
      "outputs": []
    },
    {
      "cell_type": "markdown",
      "metadata": {
        "id": "LFqVKkaZdGD4"
      },
      "source": [
        "### 2. `JOIN` statement\n",
        "\n",
        "You can read more about the `JOIN` statement [here](https://www.w3schools.com/sql/sql_join.asp)\n",
        "\n",
        "You have been tasked with finding the names of all students and course names for their `course_one`. \n",
        "\n",
        "The results look like: (student1's name, student1 course_one's course name)\n",
        "\n",
        "Hint: Join your two tables on the primary key(s) of the course table!"
      ]
    },
    {
      "cell_type": "code",
      "metadata": {
        "id": "-213-UrudHTk"
      },
      "source": [
        "join_command = '''\n",
        "SELECT\n",
        "  a.?, b.?\n",
        "FROM\n",
        "  ? a\n",
        "JOIN ? b ON a.? = b.? \n",
        "AND a.? = b.?;\n",
        "'''\n",
        "c.execute(join_command)\n",
        "\n",
        "for row in c:\n",
        "   print(\"Course ID = \", row[0])\n",
        "   print(\"Name = \", row[1], \"\\n\")"
      ],
      "execution_count": null,
      "outputs": []
    },
    {
      "cell_type": "markdown",
      "metadata": {
        "id": "dzS20_YodMM-"
      },
      "source": [
        "### 3. `WITH` statement\n",
        "\n",
        "You can read more about the `WITH` statement [here](https://www.geeksforgeeks.org/sql-with-clause/)\n",
        "\n",
        "Of all the courses at Brown taught by more than one professor, you are tasked to find the course which is taught by the most number of professors and what that number is.\n"
      ]
    },
    {
      "cell_type": "code",
      "metadata": {
        "id": "ZgYAOJIrdMt0"
      },
      "source": [
        "with_command = '''\n",
        "WITH subquery AS \n",
        "  (SELECT course_id, COUNT(course_id) as count\n",
        "  FROM Courses\n",
        "  GROUP BY course_id\n",
        "  HAVING COUNT(course_id) > 1\n",
        ")\n",
        "\n",
        "SELECT\n",
        "  course_id, ?(count)\n",
        "  FROM subquery\n",
        ";\n",
        "'''\n",
        "c.execute(with_command)\n",
        "for row in c:\n",
        "   print(\"Course ID = \", row[0])\n",
        "   print(\"Count = \", row[1], \"\\n\")"
      ],
      "execution_count": null,
      "outputs": []
    },
    {
      "cell_type": "markdown",
      "metadata": {
        "id": "fT6uOwXiXffL"
      },
      "source": [
        "### 4. `CASE` statement\n",
        "\n",
        "You can read more about the `CASE` statement [here](https://www.w3schools.com/sql/sql_case.asp)\n",
        "\n",
        "You have been tasked to write a query that shows the number of professors at Brown with names that start with A through C, and the number of professors at Brown with names that start with D through Z."
      ]
    },
    {
      "cell_type": "code",
      "metadata": {
        "id": "gbUAZRXDXgAU"
      },
      "source": [
        "case_command = '''\n",
        "SELECT \n",
        "  CASE WHEN ? < 'D' THEN 'A-C'\n",
        "       WHEN ? >= 'D' THEN 'D-Z'\n",
        "       ELSE NULL END AS professor_name_group,\n",
        "  COUNT(1) as professors\n",
        "FROM\n",
        "  Courses\n",
        "GROUP BY 1\n",
        ";\n",
        "'''\n",
        "c.execute(case_command)\n",
        "for row in c:\n",
        "   print(\"professor_name_group = \", row[0])\n",
        "   print(\"professors = \", row[1], \"\\n\")"
      ],
      "execution_count": null,
      "outputs": []
    },
    {
      "cell_type": "markdown",
      "metadata": {
        "id": "f-M6zhBmviJy"
      },
      "source": [
        "### 5. Closing\n",
        "Close the cursor and the connection when you are done with the lab. Now get yourself checked off 🎉"
      ]
    },
    {
      "cell_type": "code",
      "metadata": {
        "id": "QuH3O7v1vo1H"
      },
      "source": [
        "c.close()\n",
        "conn.close()"
      ],
      "execution_count": null,
      "outputs": []
    },
    {
      "cell_type": "markdown",
      "metadata": {
        "id": "OernQBr24XjV"
      },
      "source": [
        "### Credit\n",
        "\n",
        "Made by Maggie (mwu27) and Nam (ndo3) in Spring 2020. \n",
        "Updated by Dharam (dmadnani) in Spring 2021. Updated by Annabel (aroth7) and Alex (ading13) in Spring 2023."
      ]
    }
  ]
}